{
 "cells": [
  {
   "cell_type": "code",
   "execution_count": null,
   "metadata": {},
   "outputs": [],
   "source": [
    "import requests\n",
    "import tensorflow as tf\n",
    "\n",
    "def predict_images(filenames, endpoint=\"http://localhost:8501/v1/models/rps_model:predict\"):\n",
    "    def images_preprocessing(filename):\n",
    "        image = tf.io.decode_image(open(filename, 'rb').read(), channels=3)\n",
    "        image = tf.image.resize(image, [150, 150])\n",
    "        image = image / 255.0\n",
    "        image_tensor = tf.expand_dims(image, 0)\n",
    "        return image_tensor.numpy().tolist()\n",
    "\n",
    "    map_labels = {0: \"Bacterial wilt disease\", 1: \"Healthy\", 2: \"Manganese Toxicity\"}\n",
    "    predictions = []\n",
    "\n",
    "    for filename in filenames:\n",
    "        # Preprocess the image\n",
    "        image_tensor = images_preprocessing(filename)\n",
    "        json_data = {\"instances\": image_tensor}\n",
    "\n",
    "        # Send the request to the Prediction API\n",
    "        response = requests.post(endpoint, json=json_data)\n",
    "        if response.status_code == 200 and 'predictions' in response.json():\n",
    "            prediction = tf.argmax(response.json()['predictions'][0]).numpy()\n",
    "            predictions.append((filename, map_labels[prediction]))\n",
    "        else:\n",
    "            predictions.append((filename, \"Prediction failed\"))\n",
    "\n",
    "    return predictions\n",
    "\n",
    "# Contoh penggunaan fungsi\n",
    "filenames = [\n",
    "    'images/Manganese_Toxicityt_disease_downscaled_original_IMG20230505172751 - Copy.jpg_1587ba61-c7b4-4d53-845a-61646ed31080.jpg',\n",
    "    'images/Bacterial_wilt_disease_downscaled_original_20230506_131654.jpg_80e8f331-b7be-432e-b5a3-025359054c1c.jpg',\n",
    "    'images/Healthy_disease_downscaled_original_20230506_123549.jpg_47d37696-509e-4861-8de9-bb2f2a4b89df.jpg',\n",
    "    'images/Bacterial_wilt_disease_downscaled_original_20220228_154206_jpg.rf.6a32d848b2ca5e32570515e1a8373791.jpg_1e3462a1-7c1b-439a-8295-08d4bc683e9d.jpg',\n",
    "    'images/Healthy_disease_downscaled_original_20230506_123011.jpg_42db2b63-31ba-4eda-ab8a-7a01f64ca22e.jpg',\n",
    "    'images/Manganese_Toxicityt_disease_downscaled_original_IMG20230505172830.jpg_1155dc16-03fe-4f46-b218-552e634fad58.jpg',\n",
    "    'images/bacterial_disease_1.jpg',\n",
    "    'images/healthy_1.jpg'\n",
    "]\n",
    "\n",
    "results = predict_images(filenames)\n",
    "\n",
    "for filename, prediction in results:\n",
    "    print(f\"File: {filename}\")\n",
    "    print(f\"Predicted Class: {prediction}\")\n"
   ]
  }
 ],
 "metadata": {
  "kernelspec": {
   "display_name": "Python 3",
   "language": "python",
   "name": "python3"
  },
  "language_info": {
   "codemirror_mode": {
    "name": "ipython",
    "version": 3
   },
   "file_extension": ".py",
   "mimetype": "text/x-python",
   "name": "python",
   "nbconvert_exporter": "python",
   "pygments_lexer": "ipython3",
   "version": "3.12.4"
  }
 },
 "nbformat": 4,
 "nbformat_minor": 2
}
